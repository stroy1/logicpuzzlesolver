{
 "cells": [
  {
   "cell_type": "code",
   "execution_count": null,
   "metadata": {
    "collapsed": true
   },
   "outputs": [],
   "source": [
    "def create_grid(category_count,  choice_count):\n",
    "    dimension = category_count * choice_count-1\n",
    "    return grid[dimension][dimension]\n",
    "\n",
    "def mapper():\n",
    "    pass\n",
    "\n",
    "with open('4x4_sample_puzzle.txt', 'r') as puzzle:\n",
    "    category_count, choice_count = puzzle.readline()\n",
    "    \n",
    "    grid = create_grid(category_count, choice_count)\n",
    "    categories = {}\n",
    "    \n",
    "    for count in range(category_count):\n",
    "        categories[puzzle.readline()] = []\n",
    "\n",
    "    \n",
    "    "
   ]
  }
 ],
 "metadata": {
  "kernelspec": {
   "display_name": "Python 2",
   "language": "python",
   "name": "python2"
  },
  "language_info": {
   "codemirror_mode": {
    "name": "ipython",
    "version": 2
   },
   "file_extension": ".py",
   "mimetype": "text/x-python",
   "name": "python",
   "nbconvert_exporter": "python",
   "pygments_lexer": "ipython2",
   "version": "2.7.11"
  }
 },
 "nbformat": 4,
 "nbformat_minor": 0
}
